{
 "cells": [
  {
   "cell_type": "code",
   "execution_count": 27,
   "metadata": {},
   "outputs": [],
   "source": [
    "import requests\n",
    "from urllib.parse import urlencode\n",
    "from pyquery import PyQuery as pq\n",
    "import time \n",
    "import random\n",
    "import json\n",
    "import os"
   ]
  },
  {
   "cell_type": "code",
   "execution_count": 29,
   "metadata": {},
   "outputs": [],
   "source": [
    "base_url = 'https://m.weibo.cn/api/container/getIndex?'\n",
    "headers = {\n",
    "    'Host': 'm.weibo.cn',\n",
    "    'Referer': 'https://m.weibo.cn/search?containerid=100103type%3D1%26q%3D%E8%B4%B8%E6%98%93%E6%88%98',\n",
    "    'User-Agent': 'Mozilla/5.0 (Macintosh; Intel Mac OS X 10_14_2) AppleWebKit/605.1.15 (KHTML, like Gecko) Version/12.0.2 Safari/605.1.15',\n",
    "    'X-Requested-With': 'XMLHttpRequest',\n",
    "    'MWeibo-Pwa': '1'\n",
    "}\n",
    "save_dir = './data'"
   ]
  },
  {
   "cell_type": "code",
   "execution_count": 104,
   "metadata": {},
   "outputs": [],
   "source": [
    "def fetch(url, headers=headers):\n",
    "    try:\n",
    "        response = requests.get(url, headers=headers)\n",
    "#         if response.status_code == 200:\n",
    "        return response.json()\n",
    "        \n",
    "    except Exception as e:\n",
    "        print('Error:', e)"
   ]
  },
  {
   "cell_type": "code",
   "execution_count": 111,
   "metadata": {},
   "outputs": [],
   "source": [
    "def save_json(result, title):\n",
    "    path = os.path.join(save_dir, '%s.json'%title)\n",
    "    with open(path, 'wb') as f:\n",
    "        f.write(json.dumps(result, ensure_ascii=False).encode('utf-8'))\n",
    "        f.write('\\r\\n'.encode('utf-8'))\n",
    "    print('save file at', path)"
   ]
  },
  {
   "cell_type": "code",
   "execution_count": 44,
   "metadata": {},
   "outputs": [],
   "source": [
    "def copy_dict(ori, keys):\n",
    "    dest = {}\n",
    "    for key in keys:\n",
    "        dest[key] = ori.get(key)\n",
    "    return dest"
   ]
  },
  {
   "cell_type": "code",
   "execution_count": 101,
   "metadata": {},
   "outputs": [],
   "source": [
    "def process_user(user):\n",
    "    return copy_dict(user, ['id', 'verified', 'verified_type', 'gender', 'followers_count', 'follow_count', 'verified_type_ext', 'screen_name'])"
   ]
  },
  {
   "cell_type": "code",
   "execution_count": 113,
   "metadata": {},
   "outputs": [],
   "source": [
    "def process_comment(comment):\n",
    "    ret = copy_dict(comment, ['like_counts', 'created_at', 'text'])\n",
    "    ret['user'] = process_user(comment.get('user'))\n",
    "    return ret"
   ]
  },
  {
   "cell_type": "code",
   "execution_count": 46,
   "metadata": {},
   "outputs": [],
   "source": [
    "def process_item(item):\n",
    "    \n",
    "    assert item.get('card_type') == 9\n",
    "    mblog = item.get('mblog')\n",
    "    ret = copy_dict(mblog, ['id', 'created_at'])\n",
    "    \n",
    "    text = mblog.get('text')\n",
    "    if 'longText' in mblog:\n",
    "        text = mblog.get('longText').get('longTextContent')\n",
    "    ret['text'] = text\n",
    "    \n",
    "    user_origin = mblog.get('user')\n",
    "    ret['user'] = process_user(user_origin)\n",
    "    \n",
    "    return ret"
   ]
  },
  {
   "cell_type": "code",
   "execution_count": 32,
   "metadata": {},
   "outputs": [],
   "source": [
    "def is_res_valid(res):\n",
    "    return res is not None and res.get('ok') == 1"
   ]
  },
  {
   "cell_type": "code",
   "execution_count": 50,
   "metadata": {},
   "outputs": [],
   "source": [
    "def get_weibos(query, page=''):\n",
    "    params = {\n",
    "        'containerid': '100103type=1&q=%s'%query,\n",
    "        'page_type': 'searchall',\n",
    "        'page': page\n",
    "    }\n",
    "    url = base_url + urlencode(params)\n",
    "    print(url)\n",
    "    return fetch(url)"
   ]
  },
  {
   "cell_type": "code",
   "execution_count": 108,
   "metadata": {},
   "outputs": [],
   "source": [
    "def get_comments(id, start_page=1):\n",
    "    ret = []\n",
    "    base_url = 'https://m.weibo.cn/api/comments/show?'\n",
    "    page = start_page\n",
    "    while True:\n",
    "        params = {\n",
    "        'id': id,\n",
    "        'page': page\n",
    "        }\n",
    "        url = base_url + urlencode(params)\n",
    "        \n",
    "        response_json = fetch(url)\n",
    "        if not is_res_valid(response_json):\n",
    "            break\n",
    "        \n",
    "        data = response_json.get('data').get('data')\n",
    "        for comment in data:\n",
    "            ret.append(process_comment(comment))\n",
    "            \n",
    "        page += 1\n",
    "        time.sleep(random.randint(0, 2000)/1000)\n",
    "    \n",
    "    return ret"
   ]
  },
  {
   "cell_type": "code",
   "execution_count": 96,
   "metadata": {},
   "outputs": [],
   "source": [
    "def collect_weibo(query, max_page=10, save=False, start_page=1):\n",
    "    ret = []\n",
    "    start_page = max(start_page, 1)\n",
    "    if save and not os.path.isdir(os.path.join(save_dir, query)):\n",
    "        os.mkdir(os.path.join(save_dir, query))\n",
    "    for page in range(start_page, max_page+1):\n",
    "        response_json = get_weibos(query, page)\n",
    "        \n",
    "        if is_res_valid(response_json):\n",
    "            cards = response_json.get('data').get('cards', {})\n",
    "            \n",
    "            for card in cards:\n",
    "                \n",
    "                if 'card_group' not in card: continue\n",
    "                for item in card['card_group']:\n",
    "                    if item.get('card_type') != 9: continue\n",
    "                        \n",
    "                    weibo = process_item(item)\n",
    "                    comments = get_comments(weibo.get('id'))\n",
    "#                     print((comments))\n",
    "                    weibo['comments'] = comments\n",
    "                    \n",
    "                    ret.append(weibo)\n",
    "                \n",
    "            time.sleep(random.randint(1, 3))\n",
    "        else:\n",
    "            print('Result invalid:')\n",
    "            print('Query: %s, page: %d'%(page, query))\n",
    "            break\n",
    "            \n",
    "    print('Fetch %d records'%len(ret))\n",
    "    if save:\n",
    "        save_json(ret, '%s(%d-%d)'%(query, start_page, page))\n",
    "    return ret"
   ]
  },
  {
   "cell_type": "code",
   "execution_count": 114,
   "metadata": {},
   "outputs": [
    {
     "name": "stdout",
     "output_type": "stream",
     "text": [
      "https://m.weibo.cn/api/container/getIndex?containerid=100103type%3D1%26q%3D%E4%B8%AD%E7%BE%8E&page_type=searchall&page=1\n",
      "Fetch 13 records\n",
      "save file at ./data\\中美(1-1).json\n"
     ]
    }
   ],
   "source": [
    "res = collect_weibo('中美', 1, start_page=1, save=True)\n"
   ]
  }
 ],
 "metadata": {
  "kernelspec": {
   "display_name": "Python 3",
   "language": "python",
   "name": "python3"
  },
  "language_info": {
   "codemirror_mode": {
    "name": "ipython",
    "version": 3
   },
   "file_extension": ".py",
   "mimetype": "text/x-python",
   "name": "python",
   "nbconvert_exporter": "python",
   "pygments_lexer": "ipython3",
   "version": "3.6.5"
  }
 },
 "nbformat": 4,
 "nbformat_minor": 2
}
