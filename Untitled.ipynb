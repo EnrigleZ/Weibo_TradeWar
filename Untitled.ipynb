{
 "cells": [
  {
   "cell_type": "code",
   "execution_count": 3,
   "metadata": {},
   "outputs": [],
   "source": [
    "import requests\n",
    "from urllib.parse import urlencode\n",
    "from pyquery import PyQuery as pq\n",
    "import time \n",
    "import random\n",
    "import json"
   ]
  },
  {
   "cell_type": "code",
   "execution_count": 4,
   "metadata": {},
   "outputs": [],
   "source": [
    "base_url = 'https://m.weibo.cn/api/container/getIndex?'\n",
    "headers = {\n",
    "    'Host': 'm.weibo.cn',\n",
    "    'Referer': 'https://m.weibo.cn/search?containerid=100103type%3D1%26q%3D%E8%B4%B8%E6%98%93%E6%88%98',\n",
    "    'User-Agent': 'Mozilla/5.0 (Macintosh; Intel Mac OS X 10_14_2) AppleWebKit/605.1.15 (KHTML, like Gecko) Version/12.0.2 Safari/605.1.15',\n",
    "    'X-Requested-With': 'XMLHttpRequest',\n",
    "    'MWeibo-Pwa': '1'\n",
    "}"
   ]
  },
  {
   "cell_type": "code",
   "execution_count": 13,
   "metadata": {},
   "outputs": [],
   "source": [
    "def fetch(url, headers=headers):\n",
    "    try:\n",
    "        response = requests.get(url, headers=headers)\n",
    "        if response.status_code == 200:\n",
    "            return response.json()\n",
    "    except Exception as e:\n",
    "        print(e)"
   ]
  },
  {
   "cell_type": "code",
   "execution_count": 12,
   "metadata": {},
   "outputs": [],
   "source": [
    "def query_page(query, page=''):\n",
    "    params = {\n",
    "        'containerid': '100103type=1&q=%s'%query,\n",
    "        'page_type': 'searchall',\n",
    "        'page': page\n",
    "    }\n",
    "    url = base_url + urlencode(params)\n",
    "    print(url)\n",
    "    return fetch(url)"
   ]
  },
  {
   "cell_type": "code",
   "execution_count": 6,
   "metadata": {},
   "outputs": [],
   "source": [
    "def save_json(result, title):\n",
    "    path = './data/%s.json'%title\n",
    "    with open(path, 'ab') as f:\n",
    "        f.write(json.dumps(result, ensure_ascii=False).encode('utf-8'))\n",
    "        f.write('\\r\\n'.encode('utf-8'))"
   ]
  },
  {
   "cell_type": "code",
   "execution_count": 7,
   "metadata": {},
   "outputs": [],
   "source": [
    "def process_item(item):\n",
    "    ret = {}\n",
    "    assert item.get('card_type') == 9\n",
    "    mblog = item.get('mblog')\n",
    "    id = mblog.get('id') # ?mid\n",
    "    created_at = mblog.get('created_at')\n",
    "    text = mblog.get('text')\n",
    "    if 'longText' in mblog:\n",
    "        text = mblog.get('longText').get('longTextContent')\n",
    "    user = mblog.get('user')\n",
    "    ret['id'] = id\n",
    "    ret['created_at'] = created_at\n",
    "    ret['text'] = text\n",
    "    ret['user'] = user\n",
    "    return ret"
   ]
  },
  {
   "cell_type": "code",
   "execution_count": 14,
   "metadata": {},
   "outputs": [],
   "source": [
    "def get_comments(id, page=1):\n",
    "    base_url = 'https://m.weibo.cn/api/comments/show?'\n",
    "    params = {\n",
    "        'id': id,\n",
    "        'page': page\n",
    "    }\n",
    "    url = base_url + urlencode(params)\n",
    "    return fetch(url)"
   ]
  },
  {
   "cell_type": "code",
   "execution_count": 8,
   "metadata": {},
   "outputs": [],
   "source": [
    "def collect_weibo(query, max_page=10, save=False):\n",
    "    ret = []\n",
    "    all_items.clear()\n",
    "    invalid_items.clear()\n",
    "    for page in range(1, max_page+1):\n",
    "        response_json = query_page(query, page)\n",
    "        if save: save_json(response_json, '%s-%d'%(query, page))\n",
    "        if response_json.get('ok') == 1 and response_json.get('data') is not None:\n",
    "            cards = response_json.get('data').get('cards', {})\n",
    "            \n",
    "            for card in cards:\n",
    "                \n",
    "                if 'card_group' not in card: continue\n",
    "                for item in card['card_group']:\n",
    "#                     all_items.append(item)\n",
    "                    if item.get('card_type') != 9: continue\n",
    "                    ret.append(process_item(item))\n",
    "                    \n",
    "            time.sleep(1)\n",
    "    \n",
    "    print('Fetch %d records'%len(ret))\n",
    "    return ret"
   ]
  },
  {
   "cell_type": "code",
   "execution_count": 10,
   "metadata": {},
   "outputs": [],
   "source": [
    "all_items = []\n",
    "invalid_items = []"
   ]
  },
  {
   "cell_type": "code",
   "execution_count": 15,
   "metadata": {},
   "outputs": [
    {
     "name": "stdout",
     "output_type": "stream",
     "text": [
      "https://m.weibo.cn/api/container/getIndex?containerid=100103type%3D1%26q%3D%E5%A1%9E%E5%B0%94%E8%BE%BE&page_type=searchall&page=1\n",
      "https://m.weibo.cn/api/container/getIndex?containerid=100103type%3D1%26q%3D%E5%A1%9E%E5%B0%94%E8%BE%BE&page_type=searchall&page=2\n",
      "https://m.weibo.cn/api/container/getIndex?containerid=100103type%3D1%26q%3D%E5%A1%9E%E5%B0%94%E8%BE%BE&page_type=searchall&page=3\n",
      "Fetch 32 records\n",
      "{'id': '4401925803845953', 'created_at': '8小时前', 'text': '塞尔达？？？？//<a href=\\'/n/芒果千层塔\\'>@芒果千层塔</a>:恐怖//<a href=\\'/n/二次元种草机\\'>@二次元种草机</a>:点开吓死我<span class=\"url-icon\"><img alt=[允悲] src=\"//h5.sinaimg.cn/m/emoticon/icon/default/d_yunbei-9aa3c436a4.png\" style=\"width:1em; height:1em;\" /></span>马上去看一眼//<a href=\\'/n/氪爆\\'>@氪爆</a>:草//<a href=\\'/n/JimmeYoumu\\'>@JimmeYoumu</a> :开塞尔达热死蚂蚁//<a href=\\'/n/大隐于世_\\'>@大隐于世_</a> : 还行//<a href=\\'/n/稀有_幻影骑士团破沙袋\\'>@稀有_幻影骑士团破沙袋</a> :草//<a href=\\'/n/魔法少年纯洁菌\\'>@魔法少年纯洁菌</a> :开塞尔达热死蚂蚁hhhhhhhhhhh', 'user': {'id': 3167305545, 'screen_name': '秋田六千', 'profile_image_url': 'https://tva2.sinaimg.cn/crop.0.0.1000.1000.180/bcc93f49jw8enn2mb881ij20rs0rs7bl.jpg?Expires=1565020206&ssig=8vIsyXmb9u&KID=imgbed,tva', 'profile_url': 'https://m.weibo.cn/u/3167305545?uid=3167305545&luicode=10000011&lfid=100103type%3D1%26q%3D%E5%A1%9E%E5%B0%94%E8%BE%BE', 'statuses_count': 26260, 'verified': True, 'verified_type': 0, 'verified_type_ext': 1, 'verified_reason': '微博知名中日文化自由撰稿人、漫画家', 'close_blue_v': False, 'description': '哇', 'gender': 'm', 'mbtype': 12, 'urank': 48, 'mbrank': 7, 'follow_me': False, 'following': False, 'followers_count': 9075849, 'follow_count': 400, 'cover_image_phone': 'https://tva1.sinaimg.cn/crop.0.0.640.640.640/9d44112bjw1f1xl1c10tuj20hs0hs0tw.jpg', 'avatar_hd': 'https://ww2.sinaimg.cn/orj480/bcc93f49jw8enn2mb881ij20rs0rs7bl.jpg', 'like': False, 'like_me': False, 'badge': {'bind_taobao': 1, 'dailv': 1, 'zongyiji': 1, 'fools_day_2016': 1, 'dzwbqlx_2016': 1, 'follow_whitelist_video': 1, 'super_star_2017': 1, 'user_name_certificate': 1, 'wenchuan_10th': 1, 'super_star_2018': 1, 'worldcup_2018': 34, 'qixi_2018': 1, 'memorial_2018': 1, 'hongbaofei_2019': 1, 'wusi_2019': 1, 'hongrenjie_2019': 1}}}\n"
     ]
    }
   ],
   "source": [
    "res = collect_weibo('塞尔达', 3, save=True)\n",
    "print(res[0])"
   ]
  },
  {
   "cell_type": "code",
   "execution_count": 16,
   "metadata": {},
   "outputs": [
    {
     "data": {
      "text/plain": [
       "0"
      ]
     },
     "execution_count": 16,
     "metadata": {},
     "output_type": "execute_result"
    }
   ],
   "source": [
    "test = {\n",
    "    'arg1': '',\n",
    "    'arg2': None\n",
    "}\n",
    "test.get('asd', 0)"
   ]
  },
  {
   "cell_type": "code",
   "execution_count": 16,
   "metadata": {},
   "outputs": [
    {
     "name": "stdout",
     "output_type": "stream",
     "text": [
      "{'ok': 1, 'msg': '数据获取成功', 'data': {'data': [{'id': 4402039712762356, 'created_at': '1小时前', 'source': '', 'user': {'id': 3949612207, 'screen_name': 'Operigo', 'profile_image_url': 'https://tvax1.sinaimg.cn/crop.0.0.512.512.180/eb6a4cafly8g2boq1oh25j20e80e8mxe.jpg?Expires=1565020306&ssig=kcgjUcDT46&KID=imgbed,tva', 'verified': False, 'verified_type': -1, 'followers_count': 1348, 'mbtype': 12, 'profile_url': 'https://m.weibo.cn/u/3949612207?uid=3949612207', 'remark': '', 'following': False, 'follow_me': False}, 'text': \"回复<a href='https://m.weibo.cn/n/legolas阿鑫'>@legolas阿鑫</a>:我的妈 这啥玩意\", 'reply_id': 4402007773349749, 'reply_text': \"<a href='https://m.weibo.cn/n/Operigo'>@Operigo</a>\", 'like_counts': 0, 'liked': False}, {'id': 4402022985865527, 'created_at': '2小时前', 'source': '', 'user': {'id': 5240370607, 'screen_name': 'w寿限无寿限无扔屎机w', 'profile_image_url': 'https://tva1.sinaimg.cn/crop.0.0.720.720.180/005IE3Mzjw8eq1zsz3a5uj30k00k0taj.jpg?Expires=1565020306&ssig=9ajBJpuM3U&KID=imgbed,tva', 'verified': False, 'verified_type': -1, 'followers_count': 58, 'mbtype': 0, 'profile_url': 'https://m.weibo.cn/u/5240370607?uid=5240370607', 'remark': '', 'following': False, 'follow_me': False}, 'text': '？？？？害怕了', 'like_counts': 0, 'liked': False}, {'id': 4402015272749405, 'created_at': '3小时前', 'source': '', 'user': {'id': 1821560861, 'screen_name': '猫爪Blade', 'profile_image_url': 'https://tva4.sinaimg.cn/crop.0.0.996.996.180/6c92d01djw8f1pg2gzkxlj20ro0rojso.jpg?Expires=1565020306&ssig=xeKrIsYcAT&KID=imgbed,tva', 'verified': False, 'verified_type': -1, 'followers_count': 115, 'mbtype': 2, 'profile_url': 'https://m.weibo.cn/u/1821560861?uid=1821560861', 'remark': '', 'following': False, 'follow_me': False}, 'text': \"<a href='https://m.weibo.cn/n/Blade霖叔'>@Blade霖叔</a>\", 'like_counts': 0, 'liked': False}, {'id': 4402014747894071, 'created_at': '3小时前', 'source': '', 'user': {'id': 5664484099, 'screen_name': '白小鱼QvQ', 'profile_image_url': 'https://tvax2.sinaimg.cn/crop.0.0.996.996.180/006blB4Lly8fwq1t6dzrlj30ro0rowh3.jpg?Expires=1565020306&ssig=n%2B1TeQWFvQ&KID=imgbed,tva', 'verified': False, 'verified_type': -1, 'followers_count': 113, 'mbtype': 2, 'profile_url': 'https://m.weibo.cn/u/5664484099?uid=5664484099', 'remark': '', 'following': False, 'follow_me': False}, 'text': \"回复<a href='https://m.weibo.cn/n/zelot_zzy'>@zelot_zzy</a>:啊哈哈哈哈哈哈哈哈哈\", 'reply_id': 4402013024526872, 'reply_text': \"回复<a href='https://m.weibo.cn/n/白小鱼QvQ'>@白小鱼QvQ</a>:草！\", 'like_counts': 0, 'liked': False}, {'id': 4402013024526872, 'created_at': '3小时前', 'source': '', 'user': {'id': 5019788290, 'screen_name': 'zelot_zzy', 'profile_image_url': 'https://tvax2.sinaimg.cn/crop.0.0.500.500.180/005tIwfgly8fwq1suhorbj30dw0dwdjb.jpg?Expires=1565020306&ssig=6JRfRUgolm&KID=imgbed,tva', 'verified': False, 'verified_type': -1, 'followers_count': 274, 'mbtype': 12, 'profile_url': 'https://m.weibo.cn/u/5019788290?uid=5019788290', 'remark': '', 'following': False, 'follow_me': False}, 'text': \"回复<a href='https://m.weibo.cn/n/白小鱼QvQ'>@白小鱼QvQ</a>:草！\", 'reply_id': 4402010264623786, 'reply_text': \"哈哈哈哈哈哈<a href='https://m.weibo.cn/n/zelot_zzy'>@zelot_zzy</a>\", 'like_counts': 0, 'liked': False}, {'id': 4402010264623786, 'created_at': '3小时前', 'source': '', 'user': {'id': 5664484099, 'screen_name': '白小鱼QvQ', 'profile_image_url': 'https://tvax2.sinaimg.cn/crop.0.0.996.996.180/006blB4Lly8fwq1t6dzrlj30ro0rowh3.jpg?Expires=1565020306&ssig=n%2B1TeQWFvQ&KID=imgbed,tva', 'verified': False, 'verified_type': -1, 'followers_count': 113, 'mbtype': 2, 'profile_url': 'https://m.weibo.cn/u/5664484099?uid=5664484099', 'remark': '', 'following': False, 'follow_me': False}, 'text': \"哈哈哈哈哈哈<a href='https://m.weibo.cn/n/zelot_zzy'>@zelot_zzy</a>\", 'like_counts': 0, 'liked': False}, {'id': 4402007773349749, 'created_at': '3小时前', 'source': '', 'user': {'id': 3918731146, 'screen_name': 'legolas阿鑫', 'profile_image_url': 'https://tva4.sinaimg.cn/crop.0.0.639.639.180/e993178ajw8f84wpohmu7j20hs0hrmxs.jpg?Expires=1565020306&ssig=02n1VL2KNi&KID=imgbed,tva', 'verified': False, 'verified_type': -1, 'followers_count': 132, 'mbtype': 12, 'profile_url': 'https://m.weibo.cn/u/3918731146?uid=3918731146', 'remark': '', 'following': False, 'follow_me': False}, 'text': \"<a href='https://m.weibo.cn/n/Operigo'>@Operigo</a>\", 'like_counts': 0, 'liked': False}, {'id': 4402007236455818, 'created_at': '3小时前', 'source': '', 'user': {'id': 1737054875, 'screen_name': '向日南瓜', 'profile_image_url': 'https://tvax1.sinaimg.cn/crop.0.0.900.900.180/67895a9bly8fdm4dt1rwgj21400p0wly.jpg?Expires=1565020306&ssig=lte2DhgRhP&KID=imgbed,tva', 'verified': False, 'verified_type': 220, 'followers_count': 294, 'mbtype': 0, 'profile_url': 'https://m.weibo.cn/u/1737054875?uid=1737054875', 'remark': '', 'following': False, 'follow_me': False}, 'text': \"<a href='https://m.weibo.cn/n/Japay'>@Japay</a>\", 'like_counts': 0, 'liked': False}, {'id': 4402006666194347, 'created_at': '3小时前', 'source': '', 'user': {'id': 5220205291, 'screen_name': '-蝣-', 'profile_image_url': 'https://tvax2.sinaimg.cn/crop.5.0.740.740.180/005HhrRxly8ff04potpycj30ku0kkaaz.jpg?Expires=1565020306&ssig=y3uJr2U68m&KID=imgbed,tva', 'verified': False, 'verified_type': -1, 'followers_count': 225, 'mbtype': 0, 'profile_url': 'https://m.weibo.cn/u/5220205291?uid=5220205291', 'remark': '', 'following': False, 'follow_me': False}, 'text': '回复<a href=\\'https://m.weibo.cn/n/是橙子鱼啊\\'>@是橙子鱼啊</a>:…………我去理理我的书桌<span class=\"url-icon\"><img alt=[黑线] src=\"//h5.sinaimg.cn/m/emoticon/icon/default/d_heixian-bde08b426c.png\" style=\"width:1em; height:1em;\" /></span><span class=\"url-icon\"><img alt=[黑线] src=\"//h5.sinaimg.cn/m/emoticon/icon/default/d_heixian-bde08b426c.png\" style=\"width:1em; height:1em;\" /></span>', 'reply_id': 4401969281680376, 'reply_text': \"<a href='https://m.weibo.cn/n/-蝣-'>@-蝣-</a>\", 'like_counts': 0, 'liked': False}, {'id': 4402004908224675, 'created_at': '3小时前', 'source': '', 'user': {'id': 5822373518, 'screen_name': '忧伤抠脚导致体力不支的女王', 'profile_image_url': 'https://tva2.sinaimg.cn/crop.0.1.1242.1242.180/006m25kijw8f0i7kdweicj30yi0yldii.jpg?Expires=1565020306&ssig=QiEv5%2Bm9i%2B&KID=imgbed,tva', 'verified': False, 'verified_type': -1, 'followers_count': 15, 'mbtype': 2, 'profile_url': 'https://m.weibo.cn/u/5822373518?uid=5822373518', 'remark': '', 'following': False, 'follow_me': False}, 'text': '吓得我赶紧玩了会儿塞尔达，还有800个呀哈哈……算了，蚂蚁是小事……', 'like_counts': 0, 'liked': False}], 'total_number': 122, 'max': 13}}\n"
     ]
    }
   ],
   "source": [
    "print(get_comments('4401925803845953'))"
   ]
  }
 ],
 "metadata": {
  "kernelspec": {
   "display_name": "Python 3",
   "language": "python",
   "name": "python3"
  },
  "language_info": {
   "codemirror_mode": {
    "name": "ipython",
    "version": 3
   },
   "file_extension": ".py",
   "mimetype": "text/x-python",
   "name": "python",
   "nbconvert_exporter": "python",
   "pygments_lexer": "ipython3",
   "version": "3.6.5"
  }
 },
 "nbformat": 4,
 "nbformat_minor": 2
}
