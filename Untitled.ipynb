{
 "cells": [
  {
   "cell_type": "code",
   "execution_count": 1,
   "metadata": {},
   "outputs": [],
   "source": [
    "import requests\n",
    "from urllib.parse import urlencode\n",
    "from pyquery import PyQuery as pq\n",
    "import time \n",
    "import random\n",
    "import json"
   ]
  },
  {
   "cell_type": "code",
   "execution_count": 2,
   "metadata": {},
   "outputs": [],
   "source": [
    "base_url = 'https://m.weibo.cn/api/container/getIndex?'\n",
    "headers = {\n",
    "    'Host': 'm.weibo.cn',\n",
    "    'Referer': 'https://m.weibo.cn/search?containerid=100103type%3D1%26q%3D%E8%B4%B8%E6%98%93%E6%88%98',\n",
    "    'User-Agent': 'Mozilla/5.0 (Macintosh; Intel Mac OS X 10_14_2) AppleWebKit/605.1.15 (KHTML, like Gecko) Version/12.0.2 Safari/605.1.15',\n",
    "    'X-Requested-With': 'XMLHttpRequest',\n",
    "    'MWeibo-Pwa': '1'\n",
    "}"
   ]
  },
  {
   "cell_type": "code",
   "execution_count": 72,
   "metadata": {},
   "outputs": [],
   "source": [
    "def query_page(query, page=''):\n",
    "    params = {\n",
    "        'containerid': '100103type=1&q=%s'%query,\n",
    "        'page_type': 'searchall',\n",
    "        'page': page\n",
    "    }\n",
    "    url = base_url + urlencode(params)\n",
    "    print(url)\n",
    "    try:\n",
    "        response = requests.get(url, headers=headers)\n",
    "        if response.status_code == 200:\n",
    "            return response.json()\n",
    "    except Exception as e:\n",
    "        print(e)"
   ]
  },
  {
   "cell_type": "code",
   "execution_count": 37,
   "metadata": {},
   "outputs": [],
   "source": [
    "def save_json(result, title):\n",
    "    path = './data/%s.json'%title\n",
    "    with open(path, 'ab') as f:\n",
    "        f.write(json.dumps(result, ensure_ascii=False).encode('utf-8'))\n",
    "        f.write('\\r\\n'.encode('utf-8'))"
   ]
  },
  {
   "cell_type": "code",
   "execution_count": 74,
   "metadata": {},
   "outputs": [],
   "source": [
    "def process_item(item):\n",
    "    ret = {}\n",
    "    assert item.get('card_type') == 9\n",
    "    mblog = item.get('mblog')\n",
    "    id = mblog.get('id') # ?mid\n",
    "    created_at = mblog.get('created_at')\n",
    "    text = mblog.get('text')\n",
    "    if 'longText' in mblog:\n",
    "        text = mblog.get('longText').get('longTextContent')\n",
    "    user = mblog.get('user')\n",
    "    ret['id'] = id\n",
    "    ret['created_at'] = created_at\n",
    "    ret['text'] = text\n",
    "    ret['user'] = user\n",
    "    return ret"
   ]
  },
  {
   "cell_type": "code",
   "execution_count": 78,
   "metadata": {},
   "outputs": [],
   "source": [
    "def collect_weibo(query, max_page=10, save=False):\n",
    "    ret = []\n",
    "    all_items.clear()\n",
    "    invalid_items.clear()\n",
    "    for page in range(1, max_page+1):\n",
    "        response_json = query_page(query, page)\n",
    "        if save: save_json(response_json, '%s-%d'%(query, page))\n",
    "        if response_json.get('ok') == 1 and response_json.get('data') is not None:\n",
    "            cards = response_json.get('data').get('cards', {})\n",
    "            \n",
    "            for card in cards:\n",
    "                \n",
    "                if 'card_group' not in card: continue\n",
    "                for item in card['card_group']:\n",
    "#                     all_items.append(item)\n",
    "                    if item.get('card_type') != 9: continue\n",
    "                    ret.append(process_item(item))\n",
    "                    \n",
    "            time.sleep(1)\n",
    "    \n",
    "    print('Fetch %d records'%len(ret))\n",
    "    return ret"
   ]
  },
  {
   "cell_type": "code",
   "execution_count": 79,
   "metadata": {},
   "outputs": [
    {
     "name": "stdout",
     "output_type": "stream",
     "text": [
      "https://m.weibo.cn/api/container/getIndex?containerid=100103type%3D1%26q%3D%E9%BE%9F%E9%BE%9F&page_type=searchall&page=1\n",
      "https://m.weibo.cn/api/container/getIndex?containerid=100103type%3D1%26q%3D%E9%BE%9F%E9%BE%9F&page_type=searchall&page=2\n",
      "https://m.weibo.cn/api/container/getIndex?containerid=100103type%3D1%26q%3D%E9%BE%9F%E9%BE%9F&page_type=searchall&page=3\n",
      "Fetch 32 records\n",
      "{'id': '4399442582598141', 'created_at': '07-29', 'text': '<a  href=\"https://m.weibo.cn/search?containerid=231522type%3D1%26t%3D10%26q%3D%23%E9%99%88%E6%83%85%E4%BB%A4%E7%BB%93%E5%B1%80%E5%B0%86%E6%8F%90%E5%89%8D%E6%92%AD%E5%87%BA%23&extparam=%23%E9%99%88%E6%83%85%E4%BB%A4%E7%BB%93%E5%B1%80%E5%B0%86%E6%8F%90%E5%89%8D%E6%92%AD%E5%87%BA%23&luicode=10000011&lfid=100103type%3D1%26q%3D%E9%BE%9F%E9%BE%9F\" data-hide=\"\"><span class=\"surl-text\">#陈情令结局将提前播出#</span></a> <span class=\"url-icon\"><img alt=[二哈] src=\"//h5.sinaimg.cn/m/emoticon/icon/others/d_erha-0fecc90ac1.png\" style=\"width:1em; height:1em;\" /></span><a  href=\"https://m.weibo.cn/search?containerid=231522type%3D1%26t%3D10%26q%3D%23%E6%8B%92%E7%BB%9D%E9%99%88%E6%83%85%E4%BB%A4%E7%82%B9%E6%92%AD%23&extparam=%23%E6%8B%92%E7%BB%9D%E9%99%88%E6%83%85%E4%BB%A4%E7%82%B9%E6%92%AD%23&luicode=10000011&lfid=100103type%3D1%26q%3D%E9%BE%9F%E9%BE%9F\" data-hide=\"\"><span class=\"surl-text\">#拒绝陈情令点播#</span></a> <span class=\"url-icon\"><img alt=[二哈] src=\"//h5.sinaimg.cn/m/emoticon/icon/others/d_erha-0fecc90ac1.png\" style=\"width:1em; height:1em;\" /></span><a  href=\"https://m.weibo.cn/search?containerid=231522type%3D1%26t%3D10%26q%3D%23%E6%8B%92%E7%BB%9D%E9%99%88%E6%83%85%E4%BB%A4%E6%8F%90%E5%89%8D%E7%BB%93%E5%B1%80%23&extparam=%23%E6%8B%92%E7%BB%9D%E9%99%88%E6%83%85%E4%BB%A4%E6%8F%90%E5%89%8D%E7%BB%93%E5%B1%80%23&luicode=10000011&lfid=100103type%3D1%26q%3D%E9%BE%9F%E9%BE%9F\" data-hide=\"\"><span class=\"surl-text\">#拒绝陈情令提前结局#</span></a> <br />今晚 射鹅 看令 保护哥弟 一个都不能少！！！<br />我今晚就是一只没有感情只会扛数据的战斗龟龟！！！！！！！<br />表情包补给送给大家！！！！！！！一起冲！！！！！！ ', 'user': {'id': 1792435355, 'screen_name': '切粒粒要加油鸭', 'profile_image_url': 'https://tvax3.sinaimg.cn/crop.0.0.751.751.180/6ad6649bly8g5j31o9xslj20kv0kvq3n.jpg?Expires=1564930465&ssig=1rdHf7wYnt&KID=imgbed,tva', 'profile_url': 'https://m.weibo.cn/u/1792435355?uid=1792435355&luicode=10000011&lfid=100103type%3D1%26q%3D%E9%BE%9F%E9%BE%9F', 'statuses_count': 1325, 'verified': True, 'verified_type': 0, 'verified_type_ext': 1, 'verified_reason': '饭制视频自媒体', 'close_blue_v': False, 'description': 'b站@切粒粒 我搞博君一肖和国漫的！！！！谨慎关注！！！！！！', 'gender': 'f', 'mbtype': 11, 'urank': 28, 'mbrank': 2, 'follow_me': False, 'following': False, 'followers_count': 17861, 'follow_count': 144, 'cover_image_phone': 'https://wx1.sinaimg.cn/crop.0.0.640.640.640/6ad6649bly1g3tiqjhyj1j20e80e875p.jpg', 'avatar_hd': 'https://wx3.sinaimg.cn/orj480/6ad6649bly8g5j31o9xslj20kv0kvq3n.jpg', 'like': False, 'like_me': False, 'badge': {'bind_taobao': 1, 'unread_pool': 1, 'unread_pool_ext': 1, 'user_name_certificate': 1, 'womensday_2018': 1, 'hongrenjie_2019': 1}}}\n"
     ]
    }
   ],
   "source": [
    "res = collect_weibo('龟龟', 3, save=True)\n",
    "print(res[0])"
   ]
  },
  {
   "cell_type": "code",
   "execution_count": 50,
   "metadata": {},
   "outputs": [],
   "source": [
    "all_items = []\n",
    "invalid_items = []"
   ]
  },
  {
   "cell_type": "code",
   "execution_count": 16,
   "metadata": {},
   "outputs": [
    {
     "data": {
      "text/plain": [
       "0"
      ]
     },
     "execution_count": 16,
     "metadata": {},
     "output_type": "execute_result"
    }
   ],
   "source": [
    "test = {\n",
    "    'arg1': '',\n",
    "    'arg2': None\n",
    "}\n",
    "test.get('asd', 0)"
   ]
  },
  {
   "cell_type": "code",
   "execution_count": 61,
   "metadata": {},
   "outputs": [],
   "source": [
    "# save_json(all_items, 'all')\n",
    "valids = list(filter(lambda x: 'mblog' in  x, all_items))"
   ]
  }
 ],
 "metadata": {
  "kernelspec": {
   "display_name": "Python 3",
   "language": "python",
   "name": "python3"
  },
  "language_info": {
   "codemirror_mode": {
    "name": "ipython",
    "version": 3
   },
   "file_extension": ".py",
   "mimetype": "text/x-python",
   "name": "python",
   "nbconvert_exporter": "python",
   "pygments_lexer": "ipython3",
   "version": "3.6.5"
  }
 },
 "nbformat": 4,
 "nbformat_minor": 2
}
